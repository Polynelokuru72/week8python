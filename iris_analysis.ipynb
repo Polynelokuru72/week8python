
# Import necessary libraries
import pandas as pd
import matplotlib.pyplot as plt
import seaborn as sns
from sklearn.datasets import load_iris

# Ensure plots are rendered inline in Jupyter
# %matplotlib inline  # Uncomment this line if using Jupyter Notebook

# Load the Iris dataset
try:
    iris = load_iris()
    df = pd.DataFrame(data=iris.data, columns=iris.feature_names)
    df['species'] = pd.Categorical.from_codes(iris.target, iris.target_names)
    print("Dataset loaded successfully.")
except Exception as e:
    print(f" Error loading dataset: {e}")

# Display the first few rows
print("\n First 5 rows of the dataset:")
print(df.head())

# Explore the structure
print("\nData Types:")
print(df.dtypes)

print("\nMissing Values:")
print(df.isnull().sum())

# Clean the dataset (no missing values in Iris, but shown for completeness)
df.dropna(inplace=True)

# Task 2: Basic Data Analysis
print("\n Basic Statistics:")
print(df.describe())

# Group by species and compute mean of each feature
print("\n Mean of each feature grouped by species:")
grouped_means = df.groupby('species').mean()
print(grouped_means)

# Task 3: Data Visualization

# Set style
sns.set(style="whitegrid")

# Line Chart (dummy time series with petal length trend)
plt.figure(figsize=(8, 4))
plt.plot(df.index, df['petal length (cm)'], label='Petal Length')
plt.title("Line Chart: Petal Length Over Index")
plt.xlabel("Index")
plt.ylabel("Petal Length (cm)")
plt.legend()
plt.tight_layout()
plt.show()

# Bar Chart: Average petal length per species
plt.figure(figsize=(6, 4))
sns.barplot(x=grouped_means.index, y=grouped_means['petal length (cm)'])
plt.title("Bar Chart: Avg Petal Length per Species")
plt.xlabel("Species")
plt.ylabel("Average Petal Length (cm)")
plt.tight_layout()
plt.show()

# Histogram: Distribution of Sepal Length
plt.figure(figsize=(6, 4))
plt.hist(df['sepal length (cm)'], bins=10, color='skyblue', edgecolor='black')
plt.title("Histogram: Sepal Length Distribution")
plt.xlabel("Sepal Length (cm)")
plt.ylabel("Frequency")
plt.tight_layout()
plt.show()

# Scatter Plot: Sepal Length vs Petal Length
plt.figure(figsize=(6, 4))
sns.scatterplot(data=df, x='sepal length (cm)', y='petal length (cm)', hue='species')
plt.title("Scatter Plot: Sepal vs Petal Length")
plt.xlabel("Sepal Length (cm)")
plt.ylabel("Petal Length (cm)")
plt.legend()
plt.tight_layout()
plt.show()

# Observations
print("\n Observations:")
print("- Setosa species has noticeably smaller petal length and width.")
print("- Sepal length and petal length show a positive correlation.")
print("- Histogram shows Sepal Length is mostly between 5.0 and 6.0 cm.")
print("- Virginica has the largest average measurements in almost all categories.")
